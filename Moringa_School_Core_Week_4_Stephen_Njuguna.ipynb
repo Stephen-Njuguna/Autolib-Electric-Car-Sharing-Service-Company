{
  "nbformat": 4,
  "nbformat_minor": 0,
  "metadata": {
    "colab": {
      "name": "Moringa_School_Core_Week 4_Stephen Njuguna",
      "provenance": [],
      "collapsed_sections": [],
      "authorship_tag": "ABX9TyMxo770qBKrqfPh6p//HbKh",
      "include_colab_link": true
    },
    "kernelspec": {
      "name": "python3",
      "display_name": "Python 3"
    },
    "language_info": {
      "name": "python"
    }
  },
  "cells": [
    {
      "cell_type": "markdown",
      "metadata": {
        "id": "view-in-github",
        "colab_type": "text"
      },
      "source": [
        "<a href=\"https://colab.research.google.com/github/Stephen-Njuguna/Moringa_school_Core_Week4_IP/blob/main/Moringa_School_Core_Week_4_Stephen_Njuguna.ipynb\" target=\"_parent\"><img src=\"https://colab.research.google.com/assets/colab-badge.svg\" alt=\"Open In Colab\"/></a>"
      ]
    },
    {
      "cell_type": "markdown",
      "metadata": {
        "id": "VjHCj0TTD5jl"
      },
      "source": [
        "\n",
        "## Autolib Electric Car-Sharing Service Company\n"
      ]
    },
    {
      "cell_type": "markdown",
      "metadata": {
        "id": "hYgFI9r-FvPj"
      },
      "source": [
        "## A) Defining Question \n",
        "\n",
        "### Hypothesis Research Question\n",
        "\n",
        "\n",
        "1.   Autolib service board claims that all the Utilib 1.4 cars picked during the weekend are returned and this makes it easier for them to do their maintenance faster than the other two Autolib electric car models . I will do a hypothesis test to test if this claim is factual.\n",
        "## Hypothesis \n",
        "1**.Null Hypothesis** - The number of Utilib 1.4 taken over the weekend is equal to the number of Utilib 1.4 electric cars returned on the weekend.\n",
        "2. **Alternative hypothesis** - The number of Utilib 1.4 taken over the weekend is not equal to the number of Utilib 1.4 electric cars returned on the weekend.\n",
        "\n",
        "\n",
        "\n",
        "\n",
        "## B) Defining The Matrix of Success\n",
        "\n",
        "\n",
        "1.  Determining weather to reject of accept the null hypothesis in favour of the alternative hypothesis.\n",
        "\n",
        "## C) Understanding the Concept \n",
        "Autolib' was an electric car sharing service which was inaugurated in Paris, France, in December 2011.It was operated by the Bolloré industry and complemented the city's bike sharing system, Velib', which was set up in 2007. The Autolib' service maintained a fleet of all-electric Bolloré Bluecars for public use on a paid subscription.\n",
        "\n",
        "## D) Expriemental Design Taken\n",
        "\n",
        "\n",
        "1.   Importing the Libraries\n",
        "2.   Reading the Dataset\n",
        "3.   Checking and Previewing the Dataset\n",
        "4.   Data Tyding\n",
        "5.   Data Cleaning\n",
        "6.   Exploratory Analysis\n",
        "7.   Biavariate Analysis\n",
        "8.   Hypothesis Testing\n",
        "9.    Summary and Conclusion \n",
        "\n",
        "## E) Data Relevance \n",
        "\n",
        "### After previewing and doing data cleaning l was left with a dataset that. I can use to solve and challenge my hypothesis statement."
      ]
    },
    {
      "cell_type": "markdown",
      "metadata": {
        "id": "Lgrif51bNuqw"
      },
      "source": [
        "## Importing Libraries"
      ]
    },
    {
      "cell_type": "code",
      "metadata": {
        "id": "6B_sgxbCN4gN"
      },
      "source": [
        "#Importing Libraries\n",
        "import pandas as pd\n",
        "import numpy as np\n",
        "import matplotlib.pyplot as plt\n",
        "import seaborn as sns\n",
        "from scipy import stats\n",
        "from scipy.stats import norm\n",
        "from scipy.stats import ttest_ind\n"
      ],
      "execution_count": 135,
      "outputs": []
    },
    {
      "cell_type": "markdown",
      "metadata": {
        "id": "l5-KR56qO2Q4"
      },
      "source": [
        "## Reading Data"
      ]
    },
    {
      "cell_type": "code",
      "metadata": {
        "colab": {
          "base_uri": "https://localhost:8080/",
          "height": 457
        },
        "id": "rGLzCr3gQcRz",
        "outputId": "97d1510c-2a3e-4d25-95e9-0b3837e40cd9"
      },
      "source": [
        "#Load the Dataset that describes the dataset\n",
        "variableDataset = pd.read_excel('columns_explanation.xlsx')\n",
        "variableDataset"
      ],
      "execution_count": 136,
      "outputs": [
        {
          "output_type": "execute_result",
          "data": {
            "text/html": [
              "<div>\n",
              "<style scoped>\n",
              "    .dataframe tbody tr th:only-of-type {\n",
              "        vertical-align: middle;\n",
              "    }\n",
              "\n",
              "    .dataframe tbody tr th {\n",
              "        vertical-align: top;\n",
              "    }\n",
              "\n",
              "    .dataframe thead th {\n",
              "        text-align: right;\n",
              "    }\n",
              "</style>\n",
              "<table border=\"1\" class=\"dataframe\">\n",
              "  <thead>\n",
              "    <tr style=\"text-align: right;\">\n",
              "      <th></th>\n",
              "      <th>Column name</th>\n",
              "      <th>explanation</th>\n",
              "    </tr>\n",
              "  </thead>\n",
              "  <tbody>\n",
              "    <tr>\n",
              "      <th>0</th>\n",
              "      <td>Postal code</td>\n",
              "      <td>postal code of the area (in Paris)</td>\n",
              "    </tr>\n",
              "    <tr>\n",
              "      <th>1</th>\n",
              "      <td>date</td>\n",
              "      <td>date of the row aggregation</td>\n",
              "    </tr>\n",
              "    <tr>\n",
              "      <th>2</th>\n",
              "      <td>n_daily_data_points</td>\n",
              "      <td>number of daily data poinst that were availabl...</td>\n",
              "    </tr>\n",
              "    <tr>\n",
              "      <th>3</th>\n",
              "      <td>dayOfWeek</td>\n",
              "      <td>identifier of weekday (0: Monday -&gt; 6: Sunday)</td>\n",
              "    </tr>\n",
              "    <tr>\n",
              "      <th>4</th>\n",
              "      <td>day_type</td>\n",
              "      <td>weekday or weekend</td>\n",
              "    </tr>\n",
              "    <tr>\n",
              "      <th>5</th>\n",
              "      <td>BlueCars_taken_sum</td>\n",
              "      <td>Number of bluecars taken that date in that area</td>\n",
              "    </tr>\n",
              "    <tr>\n",
              "      <th>6</th>\n",
              "      <td>BlueCars_returned_sum</td>\n",
              "      <td>Number of bluecars returned that date in that ...</td>\n",
              "    </tr>\n",
              "    <tr>\n",
              "      <th>7</th>\n",
              "      <td>Utilib_taken_sum</td>\n",
              "      <td>Number of Utilib taken that date in that area</td>\n",
              "    </tr>\n",
              "    <tr>\n",
              "      <th>8</th>\n",
              "      <td>Utilib_returned_sum</td>\n",
              "      <td>Number of Utilib returned that date in that area</td>\n",
              "    </tr>\n",
              "    <tr>\n",
              "      <th>9</th>\n",
              "      <td>Utilib_14_taken_sum</td>\n",
              "      <td>Number of Utilib 1.4 taken that date in that area</td>\n",
              "    </tr>\n",
              "    <tr>\n",
              "      <th>10</th>\n",
              "      <td>Utilib_14_returned_sum</td>\n",
              "      <td>Number of Utilib 1.4 returned that date in tha...</td>\n",
              "    </tr>\n",
              "    <tr>\n",
              "      <th>11</th>\n",
              "      <td>Slots_freed_sum</td>\n",
              "      <td>Number of recharging slots released that date ...</td>\n",
              "    </tr>\n",
              "    <tr>\n",
              "      <th>12</th>\n",
              "      <td>Slots_taken_sum</td>\n",
              "      <td>Number of rechargign slots taken that date in ...</td>\n",
              "    </tr>\n",
              "  </tbody>\n",
              "</table>\n",
              "</div>"
            ],
            "text/plain": [
              "               Column name                                        explanation\n",
              "0              Postal code                 postal code of the area (in Paris)\n",
              "1                     date                        date of the row aggregation\n",
              "2      n_daily_data_points  number of daily data poinst that were availabl...\n",
              "3                dayOfWeek     identifier of weekday (0: Monday -> 6: Sunday)\n",
              "4                 day_type                                 weekday or weekend\n",
              "5       BlueCars_taken_sum    Number of bluecars taken that date in that area\n",
              "6    BlueCars_returned_sum  Number of bluecars returned that date in that ...\n",
              "7         Utilib_taken_sum      Number of Utilib taken that date in that area\n",
              "8      Utilib_returned_sum   Number of Utilib returned that date in that area\n",
              "9      Utilib_14_taken_sum  Number of Utilib 1.4 taken that date in that area\n",
              "10  Utilib_14_returned_sum  Number of Utilib 1.4 returned that date in tha...\n",
              "11         Slots_freed_sum  Number of recharging slots released that date ...\n",
              "12         Slots_taken_sum  Number of rechargign slots taken that date in ..."
            ]
          },
          "metadata": {},
          "execution_count": 136
        }
      ]
    },
    {
      "cell_type": "code",
      "metadata": {
        "id": "HzUUhhteQwCm"
      },
      "source": [
        "#Loading the Utilib Dataset\n",
        "df = pd.read_csv('autolib_daily_events_postal_code.csv')"
      ],
      "execution_count": 137,
      "outputs": []
    },
    {
      "cell_type": "markdown",
      "metadata": {
        "id": "kPG2xvsYSRFF"
      },
      "source": [
        "## Checking Data"
      ]
    },
    {
      "cell_type": "code",
      "metadata": {
        "colab": {
          "base_uri": "https://localhost:8080/"
        },
        "id": "DT105qUoRMJ7",
        "outputId": "a09a07b4-2b91-4c3c-f8b3-23b20d2d874c"
      },
      "source": [
        "# Determining the no. of records in our dataset\n",
        "#\n",
        "df.shape"
      ],
      "execution_count": 138,
      "outputs": [
        {
          "output_type": "execute_result",
          "data": {
            "text/plain": [
              "(16085, 13)"
            ]
          },
          "metadata": {},
          "execution_count": 138
        }
      ]
    },
    {
      "cell_type": "code",
      "metadata": {
        "colab": {
          "base_uri": "https://localhost:8080/",
          "height": 118
        },
        "id": "hHte_Fc1Sbvn",
        "outputId": "e05ad804-feec-4d65-9afc-0a7beb1c5c73"
      },
      "source": [
        "# Previewing the top of our dataset\n",
        "#\n",
        "df.head(1)"
      ],
      "execution_count": 139,
      "outputs": [
        {
          "output_type": "execute_result",
          "data": {
            "text/html": [
              "<div>\n",
              "<style scoped>\n",
              "    .dataframe tbody tr th:only-of-type {\n",
              "        vertical-align: middle;\n",
              "    }\n",
              "\n",
              "    .dataframe tbody tr th {\n",
              "        vertical-align: top;\n",
              "    }\n",
              "\n",
              "    .dataframe thead th {\n",
              "        text-align: right;\n",
              "    }\n",
              "</style>\n",
              "<table border=\"1\" class=\"dataframe\">\n",
              "  <thead>\n",
              "    <tr style=\"text-align: right;\">\n",
              "      <th></th>\n",
              "      <th>Postal code</th>\n",
              "      <th>date</th>\n",
              "      <th>n_daily_data_points</th>\n",
              "      <th>dayOfWeek</th>\n",
              "      <th>day_type</th>\n",
              "      <th>BlueCars_taken_sum</th>\n",
              "      <th>BlueCars_returned_sum</th>\n",
              "      <th>Utilib_taken_sum</th>\n",
              "      <th>Utilib_returned_sum</th>\n",
              "      <th>Utilib_14_taken_sum</th>\n",
              "      <th>Utilib_14_returned_sum</th>\n",
              "      <th>Slots_freed_sum</th>\n",
              "      <th>Slots_taken_sum</th>\n",
              "    </tr>\n",
              "  </thead>\n",
              "  <tbody>\n",
              "    <tr>\n",
              "      <th>0</th>\n",
              "      <td>75001</td>\n",
              "      <td>1/1/2018</td>\n",
              "      <td>1440</td>\n",
              "      <td>0</td>\n",
              "      <td>weekday</td>\n",
              "      <td>110</td>\n",
              "      <td>103</td>\n",
              "      <td>3</td>\n",
              "      <td>2</td>\n",
              "      <td>10</td>\n",
              "      <td>9</td>\n",
              "      <td>22</td>\n",
              "      <td>20</td>\n",
              "    </tr>\n",
              "  </tbody>\n",
              "</table>\n",
              "</div>"
            ],
            "text/plain": [
              "   Postal code      date  ...  Slots_freed_sum  Slots_taken_sum\n",
              "0        75001  1/1/2018  ...               22               20\n",
              "\n",
              "[1 rows x 13 columns]"
            ]
          },
          "metadata": {},
          "execution_count": 139
        }
      ]
    },
    {
      "cell_type": "code",
      "metadata": {
        "colab": {
          "base_uri": "https://localhost:8080/",
          "height": 118
        },
        "id": "JNS8-twZStsn",
        "outputId": "24d2a949-fed1-4f67-dfa9-2e4d80cdf426"
      },
      "source": [
        "# Previewing the bottom of our dataset\n",
        "# \n",
        "df.tail(1)"
      ],
      "execution_count": 140,
      "outputs": [
        {
          "output_type": "execute_result",
          "data": {
            "text/html": [
              "<div>\n",
              "<style scoped>\n",
              "    .dataframe tbody tr th:only-of-type {\n",
              "        vertical-align: middle;\n",
              "    }\n",
              "\n",
              "    .dataframe tbody tr th {\n",
              "        vertical-align: top;\n",
              "    }\n",
              "\n",
              "    .dataframe thead th {\n",
              "        text-align: right;\n",
              "    }\n",
              "</style>\n",
              "<table border=\"1\" class=\"dataframe\">\n",
              "  <thead>\n",
              "    <tr style=\"text-align: right;\">\n",
              "      <th></th>\n",
              "      <th>Postal code</th>\n",
              "      <th>date</th>\n",
              "      <th>n_daily_data_points</th>\n",
              "      <th>dayOfWeek</th>\n",
              "      <th>day_type</th>\n",
              "      <th>BlueCars_taken_sum</th>\n",
              "      <th>BlueCars_returned_sum</th>\n",
              "      <th>Utilib_taken_sum</th>\n",
              "      <th>Utilib_returned_sum</th>\n",
              "      <th>Utilib_14_taken_sum</th>\n",
              "      <th>Utilib_14_returned_sum</th>\n",
              "      <th>Slots_freed_sum</th>\n",
              "      <th>Slots_taken_sum</th>\n",
              "    </tr>\n",
              "  </thead>\n",
              "  <tbody>\n",
              "    <tr>\n",
              "      <th>16084</th>\n",
              "      <td>95880</td>\n",
              "      <td>6/19/2018</td>\n",
              "      <td>1370</td>\n",
              "      <td>1</td>\n",
              "      <td>weekday</td>\n",
              "      <td>2</td>\n",
              "      <td>2</td>\n",
              "      <td>2</td>\n",
              "      <td>1</td>\n",
              "      <td>0</td>\n",
              "      <td>0</td>\n",
              "      <td>0</td>\n",
              "      <td>0</td>\n",
              "    </tr>\n",
              "  </tbody>\n",
              "</table>\n",
              "</div>"
            ],
            "text/plain": [
              "       Postal code       date  ...  Slots_freed_sum  Slots_taken_sum\n",
              "16084        95880  6/19/2018  ...                0                0\n",
              "\n",
              "[1 rows x 13 columns]"
            ]
          },
          "metadata": {},
          "execution_count": 140
        }
      ]
    },
    {
      "cell_type": "code",
      "metadata": {
        "colab": {
          "base_uri": "https://localhost:8080/"
        },
        "id": "0wS3VUedSxwa",
        "outputId": "3f13eb4a-e745-43c2-aa66-a6ac30b15c92"
      },
      "source": [
        "# Checking whether each column has an appropriate datatype\n",
        "#\n",
        "df.dtypes"
      ],
      "execution_count": 141,
      "outputs": [
        {
          "output_type": "execute_result",
          "data": {
            "text/plain": [
              "Postal code                int64\n",
              "date                      object\n",
              "n_daily_data_points        int64\n",
              "dayOfWeek                  int64\n",
              "day_type                  object\n",
              "BlueCars_taken_sum         int64\n",
              "BlueCars_returned_sum      int64\n",
              "Utilib_taken_sum           int64\n",
              "Utilib_returned_sum        int64\n",
              "Utilib_14_taken_sum        int64\n",
              "Utilib_14_returned_sum     int64\n",
              "Slots_freed_sum            int64\n",
              "Slots_taken_sum            int64\n",
              "dtype: object"
            ]
          },
          "metadata": {},
          "execution_count": 141
        }
      ]
    },
    {
      "cell_type": "code",
      "metadata": {
        "id": "7USzRDnZhUhS"
      },
      "source": [
        "#Convert Date column from object to Datetime\n",
        "df['date'] = pd.to_datetime(df['date'])"
      ],
      "execution_count": 142,
      "outputs": []
    },
    {
      "cell_type": "markdown",
      "metadata": {
        "id": "HAmKDgIDTXXH"
      },
      "source": [
        "## Exploratory Data Analysis"
      ]
    },
    {
      "cell_type": "markdown",
      "metadata": {
        "id": "xJuEhYDdVRLq"
      },
      "source": [
        "### Tyding The Dataset"
      ]
    },
    {
      "cell_type": "code",
      "metadata": {
        "colab": {
          "base_uri": "https://localhost:8080/",
          "height": 469
        },
        "id": "lOVJ7MjAVOZy",
        "outputId": "66534b5f-2d95-4b59-a5ff-e675ec391418"
      },
      "source": [
        "# Checking out for Outliers \n",
        "fig, axes = plt.subplots(1, 4, figsize= [33,9])\n",
        "fig.suptitle('Boxplots')\n",
        "sns.boxplot(df['Utilib_returned_sum'], ax=axes[0])\n",
        "sns.boxplot(df['Utilib_14_taken_sum'], ax=axes[1])\n",
        "sns.boxplot(df['Slots_freed_sum'],ax=axes[2])\n",
        "sns.boxplot(df['Slots_taken_sum'],ax=axes[3])\n",
        "plt.show"
      ],
      "execution_count": 143,
      "outputs": [
        {
          "output_type": "stream",
          "name": "stderr",
          "text": [
            "/usr/local/lib/python3.7/dist-packages/seaborn/_decorators.py:43: FutureWarning: Pass the following variable as a keyword arg: x. From version 0.12, the only valid positional argument will be `data`, and passing other arguments without an explicit keyword will result in an error or misinterpretation.\n",
            "  FutureWarning\n",
            "/usr/local/lib/python3.7/dist-packages/seaborn/_decorators.py:43: FutureWarning: Pass the following variable as a keyword arg: x. From version 0.12, the only valid positional argument will be `data`, and passing other arguments without an explicit keyword will result in an error or misinterpretation.\n",
            "  FutureWarning\n",
            "/usr/local/lib/python3.7/dist-packages/seaborn/_decorators.py:43: FutureWarning: Pass the following variable as a keyword arg: x. From version 0.12, the only valid positional argument will be `data`, and passing other arguments without an explicit keyword will result in an error or misinterpretation.\n",
            "  FutureWarning\n",
            "/usr/local/lib/python3.7/dist-packages/seaborn/_decorators.py:43: FutureWarning: Pass the following variable as a keyword arg: x. From version 0.12, the only valid positional argument will be `data`, and passing other arguments without an explicit keyword will result in an error or misinterpretation.\n",
            "  FutureWarning\n"
          ]
        },
        {
          "output_type": "execute_result",
          "data": {
            "text/plain": [
              "<function matplotlib.pyplot.show>"
            ]
          },
          "metadata": {},
          "execution_count": 143
        },
        {
          "output_type": "display_data",
          "data": {
            "image/png": "[encoded data removed]",
            "text/plain": [
              "<Figure size 2376x648 with 4 Axes>"
            ]
          },
          "metadata": {
            "needs_background": "light"
          }
        }
      ]
    },
    {
      "cell_type": "code",
      "metadata": {
        "colab": {
          "base_uri": "https://localhost:8080/"
        },
        "id": "SPmb3GaDWt-2",
        "outputId": "658de75b-fa78-48c2-b8c9-89c9f1c0602e"
      },
      "source": [
        "#Checking for anomalies\n",
        "for value in df.columns:\n",
        " print(df[value].unique())\n",
        " print('\\n')"
      ],
      "execution_count": 144,
      "outputs": [
        {
          "output_type": "stream",
          "name": "stdout",
          "text": [
            "[75001 75002 75003 75004 75005 75006 75007 75008 75009 75010 75011 75012\n",
            " 75013 75014 75015 75016 75017 75018 75019 75020 75112 75116 78000 78140\n",
            " 78150 91330 91370 91400 92000 92100 92110 92120 92130 92140 92150 92160\n",
            " 92170 92190 92200 92210 92220 92230 92240 92250 92260 92270 92290 92300\n",
            " 92310 92320 92330 92340 92350 92360 92370 92380 92390 92400 92410 92420\n",
            " 92500 92600 92700 92800 93100 93110 93130 93150 93170 93200 93230 93260\n",
            " 93300 93310 93350 93360 93370 93390 93400 93440 93500 93600 93700 93800\n",
            " 94000 94100 94110 94120 94130 94140 94150 94160 94220 94230 94300 94340\n",
            " 94410 94450 94500 94700 94800 95100 95870 95880]\n",
            "\n",
            "\n",
            "['2018-01-01T00:00:00.000000000' '2018-01-02T00:00:00.000000000'\n",
            " '2018-01-03T00:00:00.000000000' '2018-01-04T00:00:00.000000000'\n",
            " '2018-01-05T00:00:00.000000000' '2018-01-06T00:00:00.000000000'\n",
            " '2018-01-07T00:00:00.000000000' '2018-01-08T00:00:00.000000000'\n",
            " '2018-01-09T00:00:00.000000000' '2018-01-10T00:00:00.000000000'\n",
            " '2018-01-11T00:00:00.000000000' '2018-01-12T00:00:00.000000000'\n",
            " '2018-01-13T00:00:00.000000000' '2018-01-14T00:00:00.000000000'\n",
            " '2018-01-15T00:00:00.000000000' '2018-01-16T00:00:00.000000000'\n",
            " '2018-01-17T00:00:00.000000000' '2018-01-18T00:00:00.000000000'\n",
            " '2018-01-19T00:00:00.000000000' '2018-01-20T00:00:00.000000000'\n",
            " '2018-01-21T00:00:00.000000000' '2018-01-22T00:00:00.000000000'\n",
            " '2018-01-23T00:00:00.000000000' '2018-01-24T00:00:00.000000000'\n",
            " '2018-01-25T00:00:00.000000000' '2018-01-26T00:00:00.000000000'\n",
            " '2018-01-27T00:00:00.000000000' '2018-01-28T00:00:00.000000000'\n",
            " '2018-01-29T00:00:00.000000000' '2018-01-30T00:00:00.000000000'\n",
            " '2018-01-31T00:00:00.000000000' '2018-02-01T00:00:00.000000000'\n",
            " '2018-02-02T00:00:00.000000000' '2018-02-03T00:00:00.000000000'\n",
            " '2018-02-04T00:00:00.000000000' '2018-02-05T00:00:00.000000000'\n",
            " '2018-02-06T00:00:00.000000000' '2018-02-07T00:00:00.000000000'\n",
            " '2018-02-08T00:00:00.000000000' '2018-02-09T00:00:00.000000000'\n",
            " '2018-02-10T00:00:00.000000000' '2018-02-11T00:00:00.000000000'\n",
            " '2018-02-12T00:00:00.000000000' '2018-02-13T00:00:00.000000000'\n",
            " '2018-02-14T00:00:00.000000000' '2018-02-15T00:00:00.000000000'\n",
            " '2018-02-16T00:00:00.000000000' '2018-02-17T00:00:00.000000000'\n",
            " '2018-02-18T00:00:00.000000000' '2018-02-19T00:00:00.000000000'\n",
            " '2018-02-20T00:00:00.000000000' '2018-02-21T00:00:00.000000000'\n",
            " '2018-02-22T00:00:00.000000000' '2018-02-23T00:00:00.000000000'\n",
            " '2018-02-24T00:00:00.000000000' '2018-02-28T00:00:00.000000000'\n",
            " '2018-03-01T00:00:00.000000000' '2018-03-02T00:00:00.000000000'\n",
            " '2018-03-03T00:00:00.000000000' '2018-03-04T00:00:00.000000000'\n",
            " '2018-03-05T00:00:00.000000000' '2018-03-06T00:00:00.000000000'\n",
            " '2018-03-07T00:00:00.000000000' '2018-03-08T00:00:00.000000000'\n",
            " '2018-03-09T00:00:00.000000000' '2018-03-10T00:00:00.000000000'\n",
            " '2018-03-11T00:00:00.000000000' '2018-03-12T00:00:00.000000000'\n",
            " '2018-03-13T00:00:00.000000000' '2018-03-14T00:00:00.000000000'\n",
            " '2018-03-15T00:00:00.000000000' '2018-03-16T00:00:00.000000000'\n",
            " '2018-03-17T00:00:00.000000000' '2018-03-18T00:00:00.000000000'\n",
            " '2018-03-19T00:00:00.000000000' '2018-03-20T00:00:00.000000000'\n",
            " '2018-03-21T00:00:00.000000000' '2018-03-22T00:00:00.000000000'\n",
            " '2018-03-23T00:00:00.000000000' '2018-03-24T00:00:00.000000000'\n",
            " '2018-03-25T00:00:00.000000000' '2018-03-26T00:00:00.000000000'\n",
            " '2018-03-27T00:00:00.000000000' '2018-03-28T00:00:00.000000000'\n",
            " '2018-03-29T00:00:00.000000000' '2018-03-30T00:00:00.000000000'\n",
            " '2018-03-31T00:00:00.000000000' '2018-04-01T00:00:00.000000000'\n",
            " '2018-04-02T00:00:00.000000000' '2018-04-03T00:00:00.000000000'\n",
            " '2018-04-04T00:00:00.000000000' '2018-04-05T00:00:00.000000000'\n",
            " '2018-04-06T00:00:00.000000000' '2018-04-07T00:00:00.000000000'\n",
            " '2018-04-08T00:00:00.000000000' '2018-04-09T00:00:00.000000000'\n",
            " '2018-04-10T00:00:00.000000000' '2018-04-11T00:00:00.000000000'\n",
            " '2018-04-12T00:00:00.000000000' '2018-04-13T00:00:00.000000000'\n",
            " '2018-04-14T00:00:00.000000000' '2018-04-15T00:00:00.000000000'\n",
            " '2018-04-16T00:00:00.000000000' '2018-04-17T00:00:00.000000000'\n",
            " '2018-04-18T00:00:00.000000000' '2018-04-19T00:00:00.000000000'\n",
            " '2018-04-20T00:00:00.000000000' '2018-04-21T00:00:00.000000000'\n",
            " '2018-04-22T00:00:00.000000000' '2018-04-23T00:00:00.000000000'\n",
            " '2018-04-24T00:00:00.000000000' '2018-04-25T00:00:00.000000000'\n",
            " '2018-04-26T00:00:00.000000000' '2018-04-27T00:00:00.000000000'\n",
            " '2018-04-28T00:00:00.000000000' '2018-04-29T00:00:00.000000000'\n",
            " '2018-04-30T00:00:00.000000000' '2018-05-01T00:00:00.000000000'\n",
            " '2018-05-02T00:00:00.000000000' '2018-05-03T00:00:00.000000000'\n",
            " '2018-05-04T00:00:00.000000000' '2018-05-05T00:00:00.000000000'\n",
            " '2018-05-06T00:00:00.000000000' '2018-05-07T00:00:00.000000000'\n",
            " '2018-05-08T00:00:00.000000000' '2018-05-20T00:00:00.000000000'\n",
            " '2018-05-21T00:00:00.000000000' '2018-05-22T00:00:00.000000000'\n",
            " '2018-05-23T00:00:00.000000000' '2018-05-24T00:00:00.000000000'\n",
            " '2018-05-25T00:00:00.000000000' '2018-05-26T00:00:00.000000000'\n",
            " '2018-05-27T00:00:00.000000000' '2018-05-28T00:00:00.000000000'\n",
            " '2018-05-29T00:00:00.000000000' '2018-05-30T00:00:00.000000000'\n",
            " '2018-05-31T00:00:00.000000000' '2018-06-01T00:00:00.000000000'\n",
            " '2018-06-02T00:00:00.000000000' '2018-06-03T00:00:00.000000000'\n",
            " '2018-06-04T00:00:00.000000000' '2018-06-05T00:00:00.000000000'\n",
            " '2018-06-06T00:00:00.000000000' '2018-06-07T00:00:00.000000000'\n",
            " '2018-06-08T00:00:00.000000000' '2018-06-09T00:00:00.000000000'\n",
            " '2018-06-10T00:00:00.000000000' '2018-06-11T00:00:00.000000000'\n",
            " '2018-06-12T00:00:00.000000000' '2018-06-13T00:00:00.000000000'\n",
            " '2018-06-14T00:00:00.000000000' '2018-06-15T00:00:00.000000000'\n",
            " '2018-06-16T00:00:00.000000000' '2018-06-17T00:00:00.000000000'\n",
            " '2018-06-18T00:00:00.000000000' '2018-06-19T00:00:00.000000000']\n",
            "\n",
            "\n",
            "[1440 1438 1439 1320 1437 1434 1398 1420 1425 1396 1429 1389 1380 1364\n",
            " 1318 1377 1203 1417 1435 1174 1436 1411 1370]\n",
            "\n",
            "\n",
            "[0 1 2 3 4 5 6]\n",
            "\n",
            "\n",
            "['weekday' 'weekend']\n",
            "\n",
            "\n",
            "[ 110   98  138  104  114  187  180   84   81   88  125  126  224  193\n",
            "  107  116  118  122  130  217  143  123  112  108  145  216  190   83\n",
            "  103  146  199  186  121  113  109  207  160  115   94   99  119  176\n",
            "  157   85  100  135    8   92  127  136  192  168  102  134  197  173\n",
            "  131  196  150  156  231  105  219  179  124  188  139   97  120  159\n",
            "  147  151  129  152  142  141  202  175   96  133  254  137  185  203\n",
            "    6  166  165  243  264  213  164  163  191  276  210  183  148  270\n",
            "  128  280  178  153  158  259  161  240   12  181  140  263  167  177\n",
            "  250  208  171  266  155  247  154  184  293  228  182  144  218  162\n",
            "  239  200  170  174  172  245    5  195  237  331  283  212  211  380\n",
            "  356  233  220  238  384  313  229  221  201  350  327  223  226  234\n",
            "  262  361  335  205  198  346  303  236  341  277  206   25  230  330\n",
            "  286  265  251  412  340  227  357  319  189  375  326  311  284  255\n",
            "  209  215  323  256  204  214  382  315  310  333  260  297  258  241\n",
            "  235  349  305  290  275  194  307  328  242  308  279  288  320  273\n",
            "  261  169  344  334  291  294  278  287  149  370   18  257  397  365\n",
            "  298  299  321  490  427  269  451  363  339  317  416  449  296  306\n",
            "  475  348  446  343  324  304  342  355  267   37  253  401  407  396\n",
            "  282  281  271  395  345  325  292  369  232  318  309  300  314  373\n",
            "  302  377  353  312  347  268  403  364  289  252  301  376   29  405\n",
            "  366  225   24  421  244  391  272  246  222  248  374  387  359   13\n",
            "  249  336  337  274  372  394  379  411  354  295   20  368  285  322\n",
            "  409  358  360  400  393  332  386  422  430  426  442  398  415  525\n",
            "  471  455  458  462  551  520  452  453  467  487  428  482  495  435\n",
            "  464  480  417  577  437  418  489  431  383  414  399   26  425  419\n",
            "  447  459  505  463  424  468  491  492  476  473  423  433  494  516\n",
            "  338  478  497  469  465  537  479  474  524  413  371  466  432  434\n",
            "  316  450  589  501  528  533  484  460  521  518  486  488  485  500\n",
            "   21  378  503  367   27  329  385  457  352  351  381  420  390  477\n",
            "  440  461  443  388   56  438  441  402  408  406   16  499  688  557\n",
            "  738  599  445  714  613  404  679  529  456  702  598  654  602  534\n",
            "  563   69  444  483  737  655  594  697  536  612  579  507  658  593\n",
            "  454  584  362  436  552  472  481  470  539  648  569  581  631  561\n",
            "  540  576  496  696  554  389   49  502  605  634  515  764  673  535\n",
            "  735  666  690  642  448  549  816  609  672  617  541  724   46  439\n",
            "  614  519  661  645  514  637  410  710  590  506  610  623  493  703\n",
            "  542  657  713  504  585  580  517  727  708  680  687  550  734  636\n",
            "  624  722  659  616  767  647  508  575  725  684  792  646  682  523\n",
            "  618  660  649  543   36  513  733  695  544  681  511  643  532  700\n",
            "  652  498  510  603  560  664  555  568  651  526  564  538  800  709\n",
            "  556  826  747  567  573  662   30  429  677  640  611  712  650  559\n",
            "  625   39  632  620  546  586  601  592  698  678  653  691  781  739\n",
            "  669  852 1061  913  694  791  810  881 1255 1097  753  885  831  950\n",
            " 1352 1132  751  718  784  871  963 1248 1014  721  732  880  942 1327\n",
            " 1043  808  794 1118 1036  723  874  872  943 1144 1037  757  765  827\n",
            "   58  897 1136  999  829  805  790  907 1127 1038  766  811  818  898\n",
            " 1209  980  746  819  813  946 1186  981  797  884  833  867 1024  939\n",
            "  839  756  926  893  875 1277 1082  887  962  955 1005 1002  774  936\n",
            " 1023  925  984  899  877  857  865  773  944 1155 1016  840  931  856\n",
            "  938 1335 1152  861  888  985  932 1089 1338 1164  864  994 1032  968\n",
            " 1087 1330  973  920 1093 1001  693  638  741  847  842  668  768  715\n",
            "  835  918  786  728  908 1062  989  796 1069  795 1065  905  760  755\n",
            "  630  982  665  843  824  953  583  748  719  772  770  683  814 1003\n",
            "  853  793  830  804  783 1015  854  780  987  628  825  799  787  777\n",
            "  817  789 1020  894  761  850  919  686  729  606  731  742  801 1088\n",
            "  758  812  745  912  978  866  862  860  917  846 1080  802  837  832\n",
            "  890 1006  901  844  909  988  845  548  553  705  928  692  776  992\n",
            "  701  945  635  929  716  754  706  644  873  803  604   51  629  740\n",
            "  782  991  785  806  763  736  977  834  762  798  720  868  752  667\n",
            "  809  974  707  744  749  923  859   38  392  547  587  566  530   48\n",
            "  596  582  562  588  591  522  730  704  670  627   55  676  531  622\n",
            "  639  545  527   31  619  615  633  571   47  512  600  626  558    7\n",
            "   11    3    4   10    9   14   17   19    0    2   15    1   23   71\n",
            "   43   35   68   67   28   64   70   33   80   63   40   45   62   34\n",
            "   32   59   41   52   74   75   66   78   44   65   93   57   50   53\n",
            "   72   54   82   76   22   42   60  132   79   61  106   73   89   95\n",
            "   91   90   87  111   77   86  101  117]\n",
            "\n",
            "\n",
            "[ 103   94  139  104  117  185  180   83   84   85  125  127  223  193\n",
            "  107  116  118  122  130  217  150  113  146  218  189   81  110  147\n",
            "  204  121   99  112  109  207  165  111   93  119  176  158   86   98\n",
            "  135    9   91  131  137  138  208  177  124  101  145  203  169   96\n",
            "  136  142  196  154  100   97  144  128  179  151  115  232  105  219\n",
            "  143  190  102  159  155  156  120  141  201  133  253  199   95  108\n",
            "  188  126  206  174    7  244  197  153  264  148  164  277  213  149\n",
            "  175  270  198  280  161  178  152  160  257  205  240  123  157   12\n",
            "  265  186  173  140  171  167  255  209  170  266  248  243  183  292\n",
            "  222  134  236  132  181  172  184  168  162  237  163  233  202  283\n",
            "  192  252  211    6  250  187  229  249  338  293  214  212  228  379\n",
            "  359  220  225  245  400  307  221  224  367  334  274  344  340  317\n",
            "  235  342  290  182  241  332  297  195  231  414  329  210  366  319\n",
            "  247  376  331  322  271  328  267  377  311  281  339  305  216  258\n",
            "  284  238  326  275  330  318  304   21  166  279  310  315  300  352\n",
            "  269  254   19  191  333  259  295  262  256  242  341  272  285  288\n",
            "  230  278  303   13  407  356  476  433  302  343  456  372  291  308\n",
            "  301  429  467  321  466  358  306  438  313  299  355  362   16  312\n",
            "  287  261  401  405  260  413  337  298  309  398  375  316  286  426\n",
            "  363  289  320  382  314  349  294  364  346  369  411  378  371   17\n",
            "  399  234  383  227  194  403  325  268  200  423  350  394  365  246\n",
            "  327  226  370  347  273  282  296  408  389  418  324  239  251  416\n",
            "  360  393  396    8  276  409  424  435  442  412  532  492  430  422\n",
            "  460  459  552  545  448  441  465  477  428  488  519  390  406  478\n",
            "  594  380  420  449  368  402   22  427  446  421  457  471  528  454\n",
            "  388  496  523  469  445  453  447  525  417  464  506  512  425  351\n",
            "  432  494  484  529  483  498  535  443  458  392  395  434  462  391\n",
            "  348  444  568  461  463  508  482  534  481  472  518  485  480  415\n",
            "  419   18  336  335  455  521  517  436  263  440  499  410  345  474\n",
            "  381  323  361  384  354  387  439  479  468  450   35  353  397  215\n",
            "   23  513  674  490  716  641  713  644  386  431  690  569  507  711\n",
            "  602  613  570   62  595  563  437  493  630  404  658  629  682  557\n",
            "  625  501  567  676  622  596  526  548  579  522  516  373  510  451\n",
            "  659  649  605  475  667  559  561  489  547  688  584   44  611  621\n",
            "  770  687  509  758  655  473  717  536  798  618  669  603  541  671\n",
            "  735  487   61  651  593  656  642  581  686  607  608  673  684  520\n",
            "  666  685  564  497  571  647  725  503  694  724  696  549  707  645\n",
            "   41  550  617  695  670  633  745  679  514  589  712  504  538  560\n",
            "  783  524  592  634   56  639  572  693  546  678  606  544  627  598\n",
            "  530  533  648  537  600  614  551  565  704  531  554  575  785  543\n",
            "  573  824  742  578  698  680   39  582  654  646  672  624  385  597\n",
            "   42  638  631  553  615  577  566  635  374  558  495  632  650   27\n",
            "  843  720  752  846 1015  971  728  801  806  815  863 1211 1135  778\n",
            "  773  894  828  952 1300 1149  791  721  838 1214 1049  746  839  837\n",
            "  919 1287 1118  807  793 1136 1066  726  731  874  862  928 1117 1072\n",
            "  762  756  805  860 1057  747  830  865 1111 1119  734  819 1210 1046\n",
            "  780  972 1142 1033  706  792  869  967  979  873  767  893  891  840\n",
            " 1171 1189  875  942  995  963 1133 1051  775  763  736  857 1017  708\n",
            "  826  853  947  910  877  854 1146 1045  907  867  813  911 1032 1276\n",
            " 1271  892  982  948 1039 1294 1230 1004 1010 1040 1332 1143  880  914\n",
            "  970  930 1056 1154 1090   52  660  868  851  662  675  741  749  973\n",
            "  940  755  776  901 1077 1003  753  702  769 1061  890  787  808  887\n",
            " 1044  733  989  705  831  871  818  954  585  681  761   60  628  715\n",
            "  790  759  692  739  789  990  833  784  984  847  765  821 1020  861\n",
            "  616  777  729  842  832  834  797  779  915  898  623  714  710  599\n",
            "  816  620  664  697  802  804 1064  881  743  760  903  966  987  878\n",
            "  902  889 1076  855  885  996  879  906   40  542  703  904  677  939\n",
            "  981  612  938  958  771  917  852  643  709  718  845  590  663   57\n",
            "  864  700  969  610  738  757  730  754  983  975  949  737  823  876\n",
            "  665  768  786  772  965  897  883  539  357  502  586   53  604  527\n",
            "  583  470  580  591  576  652  744  689  683  486  699  701   79  500\n",
            "  722  556  811  515  661  653  587   75  588  601  555  562  637  505\n",
            "   55    5   10   20   11    3    4   14   15    1    0   24    2   49\n",
            "   31   34   65   25   30   38   54   76   32   45   50   37   36   28\n",
            "   74   69   33   29   58   47   48   71   43   66   26   51   59   63\n",
            "   46   68   67   64   90  129   77   78   80   89   88   87   72  106\n",
            "   92   70   73  114   82]\n",
            "\n",
            "\n",
            "[ 3  1  0  2  6  5  4  7  8  9 11 17 10 13 18 12 15 16 21 19 14 34 31 23\n",
            " 20 22 24 29 25 28 26 27 46 32 30 43 38 37 40 45 54 36 35 39 42 33 41 47]\n",
            "\n",
            "\n",
            "[ 2  1  0  3  6  5  4  7  8  9 11 17 10 13 18 14 15 12 21 20 16 19 35 32\n",
            " 23 22 24 25 27 26 30 49 28 31 29 43 38 39 36 34 47 45 33 58 41 37 42 40\n",
            " 44]\n",
            "\n",
            "\n",
            "[ 10   8   2   9   6   7   4  11  13  12  15  25   5  14   3  17  16   0\n",
            "   1  21  18  19  22  20  27  23  24  29  26  28  30  33  41  36  34  40\n",
            "  50  45  32  31  35  37  42  38  48  47  52  39  53  43  56  51  75  49\n",
            "  55  44  46  54  57  61  60  70  58  68  62  64  59  66  63  65  72  89\n",
            "  82  69  71  79  84  73  81  80  67  90 100  91  85  74  76  94  78  95\n",
            "  87  93]\n",
            "\n",
            "\n",
            "[  9   8   2   6  10   4  11  13  12  15   7  25   5  14   3  17  16   0\n",
            "   1  21  18  19  20  22  27  23  24  29  34  41  28  35  32  30  26  33\n",
            "  43  50  44  31  36  40  38  48  37  47  53  45  39  51  54  52  46  74\n",
            "  42  57  49  60  63  61  55  66  59  58  67  68  62  64  71  56  69  84\n",
            "  70  72  86  76  80  89  73  94  79  65  93  78  75  77  82  85  88 101\n",
            "  87  90  96  83]\n",
            "\n",
            "\n",
            "[ 22  23  27  25  18  38  34  14  15  11  19  16  21  17  41  24  20  35\n",
            "  36  32  13  28  12  26   0  48  30  29  31  47  33  40  37   9  10  43\n",
            "  44  49  39  42  45  51  46  59  64  56  52   1  50  95  84  83  81  58\n",
            "  61  67 101  86  63  97  60  57  65  80  79  77  54  85  75  73  55   3\n",
            "  62  82  71  69  74  89  91 109  70  76  72  68  78  53  66  87   2   5\n",
            " 120 111  92 110  88 103 142 115 105 113 121  96  90 134 140 130  94  99\n",
            " 128 100 129  98 118 106 119 117 102 107  93 135 104 122 133 108 112 116\n",
            " 123 136 126   6 114 132 177 167 125 124 131 143 139 137 153 180 157 162\n",
            " 152 151 149 156 145 173 147 211 127 141 161 144 163 138 171 158 148 168\n",
            " 154 166 150 170 146 165 178 174 175 176 181 190 160 184 205 253 252 155\n",
            " 193 204 221 214 169 197 196 200 199 191 185 183 208 159 218 215 179 216\n",
            " 203 186 206   7 192 172 202 236 274 195 222 239 213 229 188 201 240 164\n",
            " 226 220 182   8 194 248 289 286 234 302 254 189 235 319 277 284 360 249\n",
            " 237 305 263 271 272 209 301 278 251 322 232 207 228 283 344 282 212 330\n",
            " 309 225 217 357 280 257 300 273 250 288 339 292 242 262 308 285 198 241\n",
            " 264 267 335 293 310 219 224 187 230 223 269 258 210 233 246 255 259 227\n",
            " 244 245 231 270 275 243 296 334   4]\n",
            "\n",
            "\n",
            "[ 20  22  27  21  35  34  15  13  38  19  39  25  14   9  37  36  30  16\n",
            "  11  28  33  18  12   0  31  23  26  50  17  40  24  48  32   8  29  42\n",
            "  43  49  45  41  44  52  59  46  65  47  57  51   1  97  87  54  84  83\n",
            "  60  69 103  58  62  92  67  78  82  77  53  88  72  66  99  64  55  75\n",
            " 113  63  74  71  89  68  81  73  70  61  79  56  76  86   2 118 108 107\n",
            " 144 114  93 105 106 115 122  90  80  98  85 139 136 128  94 126  95   4\n",
            " 130 102  96 129 138 111 124 101 109 116 110 134  91 119 137 100   3 104\n",
            " 112   6 177 125 120 123 131 135 140 132 155 182 154 164 121 151 157 147\n",
            " 117 153 160 141 172 161   5 213 145 143 162 127 148 169 149 171 167 163\n",
            " 166 133 158 159 150 174 173 178 152   7 176 179 165 180 142 188 185 183\n",
            "  10 210 252 249 199 196 228 205 201 181 193 184 207 168 225 187 212 186\n",
            " 146 170 203 223 197 194 230 280 202 191 200 221 218 192 156 208 175 198\n",
            " 233 204 222 220 189 215 245 214 209 248 287 286 229 240 295 211 321 272\n",
            " 195 226 235 216 278 359 328 247 239 330 298 260 271 273 263 255 227 315\n",
            " 284 231 349 236 253 322 285 251 246 238 261 301 219 346 289 217 254 283\n",
            " 275 299 232 224 243 242 303 268 244 336 305 297 241 262 258 338 270 292\n",
            " 264 294 290 206 190 234 267 269 250 276 279 304 326]\n",
            "\n",
            "\n"
          ]
        }
      ]
    },
    {
      "cell_type": "code",
      "metadata": {
        "colab": {
          "base_uri": "https://localhost:8080/"
        },
        "id": "h2063agGgt8D",
        "outputId": "3195c9f3-23f7-4a4d-d827-536550efeae2"
      },
      "source": [
        "# Identifying the Missing Data\n",
        "#\n",
        "df.isnull().sum()"
      ],
      "execution_count": 145,
      "outputs": [
        {
          "output_type": "execute_result",
          "data": {
            "text/plain": [
              "Postal code               0\n",
              "date                      0\n",
              "n_daily_data_points       0\n",
              "dayOfWeek                 0\n",
              "day_type                  0\n",
              "BlueCars_taken_sum        0\n",
              "BlueCars_returned_sum     0\n",
              "Utilib_taken_sum          0\n",
              "Utilib_returned_sum       0\n",
              "Utilib_14_taken_sum       0\n",
              "Utilib_14_returned_sum    0\n",
              "Slots_freed_sum           0\n",
              "Slots_taken_sum           0\n",
              "dtype: int64"
            ]
          },
          "metadata": {},
          "execution_count": 145
        }
      ]
    },
    {
      "cell_type": "markdown",
      "metadata": {
        "id": "_Dja1rSGjG7U"
      },
      "source": [
        "## Univariate Analysis"
      ]
    },
    {
      "cell_type": "markdown",
      "metadata": {
        "id": "4tJrexJYkBMi"
      },
      "source": [
        "### Central Measure of Tendancy "
      ]
    },
    {
      "cell_type": "code",
      "metadata": {
        "colab": {
          "base_uri": "https://localhost:8080/"
        },
        "id": "ZCA1oVQejMUA",
        "outputId": "8c510454-c2e6-46c2-d335-25d56ea944cd"
      },
      "source": [
        "#Mean\n",
        "print(df.mean())"
      ],
      "execution_count": 146,
      "outputs": [
        {
          "output_type": "stream",
          "name": "stdout",
          "text": [
            "Postal code               88791.293876\n",
            "n_daily_data_points        1431.330619\n",
            "dayOfWeek                     2.969599\n",
            "BlueCars_taken_sum          125.926951\n",
            "BlueCars_returned_sum       125.912714\n",
            "Utilib_taken_sum              3.698290\n",
            "Utilib_returned_sum           3.699099\n",
            "Utilib_14_taken_sum           8.600560\n",
            "Utilib_14_returned_sum        8.599192\n",
            "Slots_freed_sum              22.629033\n",
            "Slots_taken_sum              22.629282\n",
            "dtype: float64\n"
          ]
        },
        {
          "output_type": "stream",
          "name": "stderr",
          "text": [
            "/usr/local/lib/python3.7/dist-packages/ipykernel_launcher.py:2: FutureWarning: DataFrame.mean and DataFrame.median with numeric_only=None will include datetime64 and datetime64tz columns in a future version.\n",
            "  \n"
          ]
        }
      ]
    },
    {
      "cell_type": "code",
      "metadata": {
        "colab": {
          "base_uri": "https://localhost:8080/"
        },
        "id": "dz5gnCI3kQ8M",
        "outputId": "7c23a09a-18ca-4a75-c837-50318faa0590"
      },
      "source": [
        "#Median\n",
        "print(df.median())\n"
      ],
      "execution_count": 147,
      "outputs": [
        {
          "output_type": "stream",
          "name": "stdout",
          "text": [
            "Postal code               92340.0\n",
            "n_daily_data_points        1440.0\n",
            "dayOfWeek                     3.0\n",
            "BlueCars_taken_sum           46.0\n",
            "BlueCars_returned_sum        46.0\n",
            "Utilib_taken_sum              1.0\n",
            "Utilib_returned_sum           1.0\n",
            "Utilib_14_taken_sum           3.0\n",
            "Utilib_14_returned_sum        3.0\n",
            "Slots_freed_sum               0.0\n",
            "Slots_taken_sum               0.0\n",
            "dtype: float64\n"
          ]
        },
        {
          "output_type": "stream",
          "name": "stderr",
          "text": [
            "/usr/local/lib/python3.7/dist-packages/ipykernel_launcher.py:2: FutureWarning: DataFrame.mean and DataFrame.median with numeric_only=None will include datetime64 and datetime64tz columns in a future version.\n",
            "  \n"
          ]
        }
      ]
    },
    {
      "cell_type": "code",
      "metadata": {
        "id": "_EJoSwlmkeIT"
      },
      "source": [
        "#Mode"
      ],
      "execution_count": 148,
      "outputs": []
    },
    {
      "cell_type": "markdown",
      "metadata": {
        "id": "L_G70a6zlM5d"
      },
      "source": [
        "### Measure of Dispersion"
      ]
    },
    {
      "cell_type": "code",
      "metadata": {
        "colab": {
          "base_uri": "https://localhost:8080/"
        },
        "id": "VeWJA6VJlUIt",
        "outputId": "719f4a0c-8e50-4d81-c56d-40074db9cac2"
      },
      "source": [
        "#Standard Deviation\n",
        "df.std()"
      ],
      "execution_count": 149,
      "outputs": [
        {
          "output_type": "execute_result",
          "data": {
            "text/plain": [
              "Postal code               7647.342000\n",
              "n_daily_data_points         33.212050\n",
              "dayOfWeek                    2.008378\n",
              "BlueCars_taken_sum         185.426579\n",
              "BlueCars_returned_sum      185.501535\n",
              "Utilib_taken_sum             5.815058\n",
              "Utilib_returned_sum          5.824634\n",
              "Utilib_14_taken_sum         12.870098\n",
              "Utilib_14_returned_sum      12.868993\n",
              "Slots_freed_sum             52.120263\n",
              "Slots_taken_sum             52.146030\n",
              "dtype: float64"
            ]
          },
          "metadata": {},
          "execution_count": 149
        }
      ]
    },
    {
      "cell_type": "code",
      "metadata": {
        "colab": {
          "base_uri": "https://localhost:8080/"
        },
        "id": "H8UN4UK-llMV",
        "outputId": "8ab3f1b2-e8ab-427b-f7ba-873fe580f02d"
      },
      "source": [
        "#Variance\n",
        "df.var()"
      ],
      "execution_count": 150,
      "outputs": [
        {
          "output_type": "execute_result",
          "data": {
            "text/plain": [
              "Postal code               5.848184e+07\n",
              "n_daily_data_points       1.103040e+03\n",
              "dayOfWeek                 4.033582e+00\n",
              "BlueCars_taken_sum        3.438302e+04\n",
              "BlueCars_returned_sum     3.441082e+04\n",
              "Utilib_taken_sum          3.381490e+01\n",
              "Utilib_returned_sum       3.392636e+01\n",
              "Utilib_14_taken_sum       1.656394e+02\n",
              "Utilib_14_returned_sum    1.656110e+02\n",
              "Slots_freed_sum           2.716522e+03\n",
              "Slots_taken_sum           2.719208e+03\n",
              "dtype: float64"
            ]
          },
          "metadata": {},
          "execution_count": 150
        }
      ]
    },
    {
      "cell_type": "code",
      "metadata": {
        "colab": {
          "base_uri": "https://localhost:8080/"
        },
        "id": "qELhdWeklqgX",
        "outputId": "4823638a-bb45-4c35-a157-d3d6b481d838"
      },
      "source": [
        "#Skewness\n",
        "df.skew()"
      ],
      "execution_count": 151,
      "outputs": [
        {
          "output_type": "execute_result",
          "data": {
            "text/plain": [
              "Postal code              -1.168778\n",
              "n_daily_data_points      -5.742776\n",
              "dayOfWeek                 0.018824\n",
              "BlueCars_taken_sum        2.406355\n",
              "BlueCars_returned_sum     2.412085\n",
              "Utilib_taken_sum          2.556872\n",
              "Utilib_returned_sum       2.578665\n",
              "Utilib_14_taken_sum       2.510924\n",
              "Utilib_14_returned_sum    2.511488\n",
              "Slots_freed_sum           2.597406\n",
              "Slots_taken_sum           2.596904\n",
              "dtype: float64"
            ]
          },
          "metadata": {},
          "execution_count": 151
        }
      ]
    },
    {
      "cell_type": "code",
      "metadata": {
        "colab": {
          "base_uri": "https://localhost:8080/"
        },
        "id": "vv1C28iDl8LO",
        "outputId": "58d778ec-8f5b-4a78-94fa-c8d88c119172"
      },
      "source": [
        "#Kurtosis\n",
        "df.kurt()"
      ],
      "execution_count": 152,
      "outputs": [
        {
          "output_type": "execute_result",
          "data": {
            "text/plain": [
              "Postal code               -0.542143\n",
              "n_daily_data_points       36.594846\n",
              "dayOfWeek                 -1.260994\n",
              "BlueCars_taken_sum         6.172692\n",
              "BlueCars_returned_sum      6.186288\n",
              "Utilib_taken_sum           7.702362\n",
              "Utilib_returned_sum        7.936357\n",
              "Utilib_14_taken_sum        7.186815\n",
              "Utilib_14_returned_sum     7.185463\n",
              "Slots_freed_sum            6.454514\n",
              "Slots_taken_sum            6.442553\n",
              "dtype: float64"
            ]
          },
          "metadata": {},
          "execution_count": 152
        }
      ]
    },
    {
      "cell_type": "code",
      "metadata": {
        "colab": {
          "base_uri": "https://localhost:8080/"
        },
        "id": "CAH-nePPmFou",
        "outputId": "39777fa9-c2d5-4276-a203-9239559ec2e5"
      },
      "source": [
        "#Frequency Table\n",
        "df['day_type'].value_counts()"
      ],
      "execution_count": 153,
      "outputs": [
        {
          "output_type": "execute_result",
          "data": {
            "text/plain": [
              "weekday    11544\n",
              "weekend     4541\n",
              "Name: day_type, dtype: int64"
            ]
          },
          "metadata": {},
          "execution_count": 153
        }
      ]
    },
    {
      "cell_type": "markdown",
      "metadata": {
        "id": "W6HSqFKZGRuE"
      },
      "source": [
        "### Plotting"
      ]
    },
    {
      "cell_type": "code",
      "metadata": {
        "colab": {
          "base_uri": "https://localhost:8080/",
          "height": 297
        },
        "id": "1Q8orQflFPTt",
        "outputId": "77276465-f5db-4872-9da1-08bda7a9fa0d"
      },
      "source": [
        "#ploting a histogram\n",
        "\n",
        "plt.hist(df['Utilib_14_returned_sum'])\n",
        "plt.xlabel(\"Utili_1.4 Returned Cars\")\n",
        "plt.show"
      ],
      "execution_count": 154,
      "outputs": [
        {
          "output_type": "execute_result",
          "data": {
            "text/plain": [
              "<function matplotlib.pyplot.show>"
            ]
          },
          "metadata": {},
          "execution_count": 154
        },
        {
          "output_type": "display_data",
          "data": {
            "image/png": "[encoded data removed]",
            "text/plain": [
              "<Figure size 432x288 with 1 Axes>"
            ]
          },
          "metadata": {
            "needs_background": "light"
          }
        }
      ]
    },
    {
      "cell_type": "code",
      "metadata": {
        "colab": {
          "base_uri": "https://localhost:8080/",
          "height": 283
        },
        "id": "51eWWgtYGqYC",
        "outputId": "db4aaca3-eb12-44f3-b277-501b61780735"
      },
      "source": [
        "#Ploting a pie\n",
        "\n",
        "df['dayOfWeek'] = df['dayOfWeek'].replace({0:'Monday',1:'Tuesday',2:'Wednesdya',3:'Thursday',4:'Friday',5:'Saturday',6:'Sunday'})\n",
        "\n",
        "a = df.groupby(df['dayOfWeek'])['n_daily_data_points'].count()\n",
        "\n",
        "label = ['Friday','Monday','Saturday','Thursday','Tuesday','Wednesday','Sunday']\n",
        "plt.pie(a, labels=label,autopct = '%1.1f%%', shadow = True, startangle = 140)\n",
        "plt.title(\"Daily Points aganist Days of the Week\", fontsize = 15)\n",
        "plt.show"
      ],
      "execution_count": 155,
      "outputs": [
        {
          "output_type": "execute_result",
          "data": {
            "text/plain": [
              "<function matplotlib.pyplot.show>"
            ]
          },
          "metadata": {},
          "execution_count": 155
        },
        {
          "output_type": "display_data",
          "data": {
            "image/png": "[encoded data removed]",
            "text/plain": [
              "<Figure size 432x288 with 1 Axes>"
            ]
          },
          "metadata": {}
        }
      ]
    },
    {
      "cell_type": "markdown",
      "metadata": {
        "id": "utrL_pmBnkXE"
      },
      "source": [
        "## Biavariate Analysis"
      ]
    },
    {
      "cell_type": "code",
      "metadata": {
        "id": "Hg3p0S-lnotL",
        "colab": {
          "base_uri": "https://localhost:8080/",
          "height": 297
        },
        "outputId": "a22b0c05-8923-4571-ca7b-efd151840e54"
      },
      "source": [
        "#Plotting a scatter plot between Blue cars Taken and Blue cars Returned\n",
        "\n",
        "sns.scatterplot(x='BlueCars_taken_sum', y='BlueCars_returned_sum', data=df)\n",
        "\n",
        "# The scatter plot shows that there is a strong correlation between the Bluecars taken and the blue cars returned."
      ],
      "execution_count": 156,
      "outputs": [
        {
          "output_type": "execute_result",
          "data": {
            "text/plain": [
              "<matplotlib.axes._subplots.AxesSubplot at 0x7f5678451f50>"
            ]
          },
          "metadata": {},
          "execution_count": 156
        },
        {
          "output_type": "display_data",
          "data": {
            "image/png": "[encoded data removed]",
            "text/plain": [
              "<Figure size 432x288 with 1 Axes>"
            ]
          },
          "metadata": {
            "needs_background": "light"
          }
        }
      ]
    },
    {
      "cell_type": "code",
      "metadata": {
        "colab": {
          "base_uri": "https://localhost:8080/",
          "height": 299
        },
        "id": "EMJMY0_ucG4T",
        "outputId": "69abbb89-db41-4f9d-9a28-4d667d0dd8bf"
      },
      "source": [
        "#Plotting a scatter plot betweeen Utulib cars Taken and Utilib cars returned\n",
        "sns.scatterplot(x= 'Utilib_taken_sum',y='Utilib_returned_sum',data=df)\n",
        "\n",
        "#There is a strong correlation between Utulib cars Taken and Utilib cars returned"
      ],
      "execution_count": 157,
      "outputs": [
        {
          "output_type": "execute_result",
          "data": {
            "text/plain": [
              "<matplotlib.axes._subplots.AxesSubplot at 0x7f5678265390>"
            ]
          },
          "metadata": {},
          "execution_count": 157
        },
        {
          "output_type": "display_data",
          "data": {
            "image/png": "[encoded data removed]",
            "text/plain": [
              "<Figure size 432x288 with 1 Axes>"
            ]
          },
          "metadata": {
            "needs_background": "light"
          }
        }
      ]
    },
    {
      "cell_type": "code",
      "metadata": {
        "colab": {
          "base_uri": "https://localhost:8080/",
          "height": 297
        },
        "id": "MZ7TnovlpTzl",
        "outputId": "6de582f3-4b1a-42ef-aad4-51646b9e9b80"
      },
      "source": [
        "#PLotting a scatter plot between Utilib 1.4 cars taken and Utilib 1.4 cars returned \n",
        "sns.scatterplot(x='Utilib_14_taken_sum',y='Utilib_14_returned_sum',data=df)\n",
        "\n",
        "#There is a strong correlation between Utilib 1.4 cars taken and Utilib 1.4 cars returned"
      ],
      "execution_count": 158,
      "outputs": [
        {
          "output_type": "execute_result",
          "data": {
            "text/plain": [
              "<matplotlib.axes._subplots.AxesSubplot at 0x7f567888c8d0>"
            ]
          },
          "metadata": {},
          "execution_count": 158
        },
        {
          "output_type": "display_data",
          "data": {
            "image/png": "[encoded data removed]",
            "text/plain": [
              "<Figure size 432x288 with 1 Axes>"
            ]
          },
          "metadata": {
            "needs_background": "light"
          }
        }
      ]
    },
    {
      "cell_type": "code",
      "metadata": {
        "colab": {
          "base_uri": "https://localhost:8080/",
          "height": 297
        },
        "id": "jlPzGmeopYb0",
        "outputId": "f527c4e0-eb2f-4701-db13-712553d20b64"
      },
      "source": [
        "#Plotting scatter plot bewteen free slot and slots taken\n",
        "sns.scatterplot(x='Slots_freed_sum',y='Slots_taken_sum',data=df)\n",
        "\n",
        "#There is a strong correlaton betweeen the Free_slots and Slots_taken."
      ],
      "execution_count": 159,
      "outputs": [
        {
          "output_type": "execute_result",
          "data": {
            "text/plain": [
              "<matplotlib.axes._subplots.AxesSubplot at 0x7f5677db1910>"
            ]
          },
          "metadata": {},
          "execution_count": 159
        },
        {
          "output_type": "display_data",
          "data": {
            "image/png": "[encoded data removed]",
            "text/plain": [
              "<Figure size 432x288 with 1 Axes>"
            ]
          },
          "metadata": {
            "needs_background": "light"
          }
        }
      ]
    },
    {
      "cell_type": "code",
      "metadata": {
        "colab": {
          "base_uri": "https://localhost:8080/",
          "height": 313
        },
        "id": "tXnbDkzisqji",
        "outputId": "300b0d6e-8c96-44e0-c3a8-eed3d8212297"
      },
      "source": [
        "#plotting a line chart of Days of the week aganist Blue Cars Taken\n",
        "points = df.groupby('dayOfWeek')['BlueCars_taken_sum'].sum().reset_index(name= 'BlueCars_taken_sum')\n",
        "y =points['BlueCars_taken_sum']\n",
        "x = points['dayOfWeek']\n",
        "plt.plot(x,y)\n",
        "plt.xlabel('Days of The Week')\n",
        "plt.ylabel('Blue Cars Taken')\n",
        "plt.title(\"Days of the Week agnist Blue Cars Taken\")\n",
        "plt.show"
      ],
      "execution_count": 160,
      "outputs": [
        {
          "output_type": "execute_result",
          "data": {
            "text/plain": [
              "<function matplotlib.pyplot.show>"
            ]
          },
          "metadata": {},
          "execution_count": 160
        },
        {
          "output_type": "display_data",
          "data": {
            "image/png": "[encoded data removed]",
            "text/plain": [
              "<Figure size 432x288 with 1 Axes>"
            ]
          },
          "metadata": {
            "needs_background": "light"
          }
        }
      ]
    },
    {
      "cell_type": "code",
      "metadata": {
        "colab": {
          "base_uri": "https://localhost:8080/",
          "height": 725
        },
        "id": "YXqQKac3tviF",
        "outputId": "bd0660bc-c386-4a91-ab7d-b7276f8fe79c"
      },
      "source": [
        "#Ploting a Heatmap\n",
        "fig, axes = plt.subplots(figsize= [20,15])\n",
        "sns.heatmap(df.corr(),annot=True)\n",
        "plt.show()"
      ],
      "execution_count": 161,
      "outputs": [
        {
          "output_type": "display_data",
          "data": {
            "image/png": "[encoded data removed]",
            "text/plain": [
              "<Figure size 1440x1080 with 2 Axes>"
            ]
          },
          "metadata": {
            "needs_background": "light"
          }
        }
      ]
    },
    {
      "cell_type": "markdown",
      "metadata": {
        "id": "VBDsGGrApkUd"
      },
      "source": [
        "### The close to 1 the correlation is the more positively correlated. \n",
        "\n",
        "Some observation from th heat map\n",
        "\n",
        "1.   slots_taken is strongly positive correlated to slots free\n",
        "2.   Utilib 1.4 returned is strongly postive correlated to slots freed\n",
        "3. Utilib 1.4 taken is strongly positive correlated to the Utilib 1.4 returned\n",
        "4. POstal code has a negative strong correlation to Utilib1.4 taken\n",
        "5. daily data points has a weak positive corelation to Utilib 1.4 taken or returned"
      ]
    },
    {
      "cell_type": "markdown",
      "metadata": {
        "id": "ncGdHj-Qvci-"
      },
      "source": [
        "## Hypothesis Testing"
      ]
    },
    {
      "cell_type": "markdown",
      "metadata": {
        "id": "-QY4qMq8v6MT"
      },
      "source": [
        "### Hypothesis Statement\n",
        "\n",
        "\n",
        "\n",
        "1. **Null Hypothesis** - The number of Utilib 1.4 taken over the weekend is equal to the number of Utilib 1.4 electric cars returned on the weekend.\n",
        "2. **Alternative hypothesis** - The number of Utilib 1.4 taken over the weekend is not equal to the number of Utilib 1.4 electric cars returned on the weekend.\n",
        "\n",
        "\n",
        "\n"
      ]
    },
    {
      "cell_type": "markdown",
      "metadata": {
        "id": "Nr2ZbpONw5mL"
      },
      "source": [
        "### Hypothesis Test Computation"
      ]
    },
    {
      "cell_type": "code",
      "metadata": {
        "colab": {
          "base_uri": "https://localhost:8080/",
          "height": 135
        },
        "id": "M1ohfBeH2MW-",
        "outputId": "3f9578cb-ce62-4ae9-a93d-09c541cb1a0c"
      },
      "source": [
        "df.head(1)"
      ],
      "execution_count": 162,
      "outputs": [
        {
          "output_type": "execute_result",
          "data": {
            "text/html": [
              "<div>\n",
              "<style scoped>\n",
              "    .dataframe tbody tr th:only-of-type {\n",
              "        vertical-align: middle;\n",
              "    }\n",
              "\n",
              "    .dataframe tbody tr th {\n",
              "        vertical-align: top;\n",
              "    }\n",
              "\n",
              "    .dataframe thead th {\n",
              "        text-align: right;\n",
              "    }\n",
              "</style>\n",
              "<table border=\"1\" class=\"dataframe\">\n",
              "  <thead>\n",
              "    <tr style=\"text-align: right;\">\n",
              "      <th></th>\n",
              "      <th>Postal code</th>\n",
              "      <th>date</th>\n",
              "      <th>n_daily_data_points</th>\n",
              "      <th>dayOfWeek</th>\n",
              "      <th>day_type</th>\n",
              "      <th>BlueCars_taken_sum</th>\n",
              "      <th>BlueCars_returned_sum</th>\n",
              "      <th>Utilib_taken_sum</th>\n",
              "      <th>Utilib_returned_sum</th>\n",
              "      <th>Utilib_14_taken_sum</th>\n",
              "      <th>Utilib_14_returned_sum</th>\n",
              "      <th>Slots_freed_sum</th>\n",
              "      <th>Slots_taken_sum</th>\n",
              "    </tr>\n",
              "  </thead>\n",
              "  <tbody>\n",
              "    <tr>\n",
              "      <th>0</th>\n",
              "      <td>75001</td>\n",
              "      <td>2018-01-01</td>\n",
              "      <td>1440</td>\n",
              "      <td>Monday</td>\n",
              "      <td>weekday</td>\n",
              "      <td>110</td>\n",
              "      <td>103</td>\n",
              "      <td>3</td>\n",
              "      <td>2</td>\n",
              "      <td>10</td>\n",
              "      <td>9</td>\n",
              "      <td>22</td>\n",
              "      <td>20</td>\n",
              "    </tr>\n",
              "  </tbody>\n",
              "</table>\n",
              "</div>"
            ],
            "text/plain": [
              "   Postal code       date  ...  Slots_freed_sum Slots_taken_sum\n",
              "0        75001 2018-01-01  ...               22              20\n",
              "\n",
              "[1 rows x 13 columns]"
            ]
          },
          "metadata": {},
          "execution_count": 162
        }
      ]
    },
    {
      "cell_type": "code",
      "metadata": {
        "colab": {
          "base_uri": "https://localhost:8080/",
          "height": 81
        },
        "id": "fEpsah5dvg-u",
        "outputId": "ff7c12dd-4b94-4322-fc9c-008e25c66f80"
      },
      "source": [
        "# Defining my Population\n",
        "population =df[['day_type','Utilib_14_taken_sum','Utilib_14_returned_sum']]\n",
        "pop = population.loc[population['day_type']=='weekend']\n",
        "pop.head(1)"
      ],
      "execution_count": 163,
      "outputs": [
        {
          "output_type": "execute_result",
          "data": {
            "text/html": [
              "<div>\n",
              "<style scoped>\n",
              "    .dataframe tbody tr th:only-of-type {\n",
              "        vertical-align: middle;\n",
              "    }\n",
              "\n",
              "    .dataframe tbody tr th {\n",
              "        vertical-align: top;\n",
              "    }\n",
              "\n",
              "    .dataframe thead th {\n",
              "        text-align: right;\n",
              "    }\n",
              "</style>\n",
              "<table border=\"1\" class=\"dataframe\">\n",
              "  <thead>\n",
              "    <tr style=\"text-align: right;\">\n",
              "      <th></th>\n",
              "      <th>day_type</th>\n",
              "      <th>Utilib_14_taken_sum</th>\n",
              "      <th>Utilib_14_returned_sum</th>\n",
              "    </tr>\n",
              "  </thead>\n",
              "  <tbody>\n",
              "    <tr>\n",
              "      <th>5</th>\n",
              "      <td>weekend</td>\n",
              "      <td>7</td>\n",
              "      <td>8</td>\n",
              "    </tr>\n",
              "  </tbody>\n",
              "</table>\n",
              "</div>"
            ],
            "text/plain": [
              "  day_type  Utilib_14_taken_sum  Utilib_14_returned_sum\n",
              "5  weekend                    7                       8"
            ]
          },
          "metadata": {},
          "execution_count": 163
        }
      ]
    },
    {
      "cell_type": "code",
      "metadata": {
        "colab": {
          "base_uri": "https://localhost:8080/",
          "height": 335
        },
        "id": "ZlbZg9Cnymh7",
        "outputId": "a8b95057-0d74-4cbf-feef-a5c5f5ab52dc"
      },
      "source": [
        "#check for normality \n",
        "plt.hist(pop['Utilib_14_taken_sum'])"
      ],
      "execution_count": 164,
      "outputs": [
        {
          "output_type": "execute_result",
          "data": {
            "text/plain": [
              "(array([3212.,  600.,  257.,  163.,  140.,   94.,   38.,   17.,   14.,\n",
              "           6.]),\n",
              " array([  0.,  10.,  20.,  30.,  40.,  50.,  60.,  70.,  80.,  90., 100.]),\n",
              " <a list of 10 Patch objects>)"
            ]
          },
          "metadata": {},
          "execution_count": 164
        },
        {
          "output_type": "display_data",
          "data": {
            "image/png": "[encoded data removed]",
            "text/plain": [
              "<Figure size 432x288 with 1 Axes>"
            ]
          },
          "metadata": {
            "needs_background": "light"
          }
        }
      ]
    },
    {
      "cell_type": "markdown",
      "metadata": {
        "id": "6W3Z8Bu03O6k"
      },
      "source": [
        "### Rules of thumb say that the sample means are basically normally distributed as long as the sample size is at least 20 or 30. For a t-test to be valid on a sample of smaller size, the population distribution would have to be approximately normal.\n"
      ]
    },
    {
      "cell_type": "code",
      "metadata": {
        "id": "oWFruzwt38pz"
      },
      "source": [
        "#Choosing your sample size\n",
        "import random\n",
        "Sample_taken =pop['Utilib_14_taken_sum'].sample(n = 20,random_state=1)\n",
        "sample_return = pop['Utilib_14_returned_sum'].sample(n = 20,random_state=1)"
      ],
      "execution_count": 165,
      "outputs": []
    },
    {
      "cell_type": "code",
      "metadata": {
        "id": "_Tkrg1LJtYy_"
      },
      "source": [
        ""
      ],
      "execution_count": 165,
      "outputs": []
    },
    {
      "cell_type": "code",
      "metadata": {
        "colab": {
          "base_uri": "https://localhost:8080/"
        },
        "id": "f-2dai2bEH9m",
        "outputId": "bbb15be5-35bf-491d-9d9d-668d8ae1b14f"
      },
      "source": [
        "#Calculating the p-value, t-test \n",
        "statistic, pvalue = ttest_ind(Sample_taken, sample_return, equal_var=True)\n",
        "\n",
        "# Printing out the pvalue and the statistic\n",
        "\n",
        "print(\"p-value of the test = \",pvalue)\n",
        "print(\"Statistic = \",statistic)\n",
        "print(\"_\" * 50)\n",
        "if pvalue < 0.05:\n",
        "  print(\"There is no evidence of a difference in the mean waiting time between the two branches\")\n",
        "  print(\"The p_value is too low: \",pvalue)\n",
        "else:\n",
        "  print(\"The evidence suggests a difference in mean waiting time between the two branches\")\n",
        "print(\"_\" * 40)\n",
        "# Means of the two samples\n",
        "print(Sample_taken.mean())\n",
        "print(sample_return.mean())\n"
      ],
      "execution_count": 166,
      "outputs": [
        {
          "output_type": "stream",
          "name": "stdout",
          "text": [
            "p-value of the test =  0.8832389582790855\n",
            "Statistic =  -0.14785501676175575\n",
            "__________________________________________________\n",
            "The evidence suggests a difference in mean waiting time between the two branches\n",
            "________________________________________\n",
            "6.5\n",
            "6.95\n"
          ]
        }
      ]
    },
    {
      "cell_type": "markdown",
      "metadata": {
        "id": "I50Z7m48GNLr"
      },
      "source": [
        "## Hypothesis Test Interpretation\n",
        "### Conclusion \n",
        "\n",
        "(p-value)0.88 > significance level(0.05)\n",
        " \n",
        "our p-value is greater than the significance level so will fail to reject the null hypothesis that, The number of Utilib 1.4 taken over the weekend is equal to the number of Utilib 1.4 electric cars returned on the weekend.\n",
        "\n",
        "### Recommendation \n",
        "To make it easy for the service and maintenance of all the electric cars under the Autolib company, all cars taken either during the weekend or weekend should be returned to the station. Late return of the cars to the station makes it hard for the maintenance and servicing of the cars."
      ]
    }
  ]
}